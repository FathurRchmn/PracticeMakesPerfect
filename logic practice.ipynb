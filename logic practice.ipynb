{
 "cells": [
  {
   "cell_type": "markdown",
   "id": "44a44304",
   "metadata": {},
   "source": [
    "# Logic Practice Python"
   ]
  },
  {
   "cell_type": "code",
   "execution_count": 1,
   "id": "42443631",
   "metadata": {},
   "outputs": [
    {
     "name": "stdout",
     "output_type": "stream",
     "text": [
      "33210.0\n"
     ]
    }
   ],
   "source": [
    "#nomor 1\n",
    "t = 123 #total segitiga\n",
    "a = 30 #alas\n",
    "tg = 18 #tinggi\n",
    "segitiga = a * tg /2 #luas segitiga\n",
    "TL = segitiga * t\n",
    "print(TL)"
   ]
  },
  {
   "cell_type": "code",
   "execution_count": 15,
   "id": "98254f35",
   "metadata": {},
   "outputs": [
    {
     "name": "stdout",
     "output_type": "stream",
     "text": [
      "Luas keramik (cm^2): 0.12\n",
      "luas kamar tidur: (m^2) 16\n",
      "Total luas kamar tidur (m^2) : 64\n",
      "keramik yang diperlukan: 533.3333333333334\n"
     ]
    }
   ],
   "source": [
    "#nomor 2\n",
    "\n",
    "br = 4 #kamar tidur\n",
    "#ukuran kamar tidur\n",
    "sisi = 4 #sisi\n",
    "#ukuran keramik\n",
    "p = 30\n",
    "l = 40\n",
    "\n",
    "lk = p*l /10000\n",
    "print('Luas keramik (cm^2):', lk)\n",
    "\n",
    "lbr = sisi*sisi\n",
    "print('luas kamar tidur: (m^2)', lbr)\n",
    "\n",
    "brh = lbr * br\n",
    "print('Total luas kamar tidur (m^2) :', brh)\n",
    "\n",
    "cerneed = brh / lk\n",
    "print('keramik yang diperlukan:', cerneed)"
   ]
  },
  {
   "cell_type": "code",
   "execution_count": 22,
   "id": "5b770c08",
   "metadata": {},
   "outputs": [
    {
     "name": "stdout",
     "output_type": "stream",
     "text": [
      "km: 12878.3082\n",
      "m: 1287830.82\n",
      "cm: 128783082\n",
      "---------------------------\n",
      "jarak: 128783082 km: 12878.3082 m: 1287830.82 cm 128783082\n"
     ]
    }
   ],
   "source": [
    "#nomor 3\n",
    "\n",
    "jarak = 128783082 #cm\n",
    "\n",
    "km = jarak / 10000\n",
    "print('km:',km)\n",
    "m = jarak / 100\n",
    "print('m:',m)\n",
    "cm = jarak\n",
    "print('cm:',cm)\n",
    "\n",
    "print('---------------------------')\n",
    "print('jarak:', jarak,\n",
    "      'km:', km,\n",
    "      'm:', m,\n",
    "      'cm', cm)"
   ]
  },
  {
   "cell_type": "code",
   "execution_count": 24,
   "id": "fca3635a",
   "metadata": {},
   "outputs": [
    {
     "name": "stdout",
     "output_type": "stream",
     "text": [
      "kalau 1 box keramik berisi 5\n",
      "Luas keramik (cm^2): 0.12\n",
      "luas kamar tidur: (m^2) 16\n",
      "Total luas kamar tidur (m^2) : 64\n",
      "keramik yang diperlukan: 533.3333333333334\n",
      "jumlah kardus keramik yang dibutuhkan: 106.66666666666667\n"
     ]
    }
   ],
   "source": [
    "##latihan 1\n",
    "\n",
    "#no 1\n",
    "\n",
    "print('kalau 1 box keramik berisi 5')\n",
    "\n",
    "box = 5\n",
    "\n",
    "br = 4 #kamar tidur\n",
    "#ukuran kamar tidur\n",
    "sisi = 4 #sisi\n",
    "#ukuran keramik\n",
    "p = 30\n",
    "l = 40\n",
    "\n",
    "lk = p*l /10000\n",
    "print('Luas keramik (cm^2):', lk)\n",
    "\n",
    "lbr = sisi*sisi\n",
    "print('luas kamar tidur: (m^2)', lbr)\n",
    "\n",
    "brh = lbr * br\n",
    "print('Total luas kamar tidur (m^2) :', brh)\n",
    "\n",
    "cerneed = brh / lk\n",
    "print('keramik yang diperlukan:', cerneed)\n",
    "\n",
    "boxneeded = cerneed / box\n",
    "print('jumlah kardus keramik yang dibutuhkan:', boxneeded)"
   ]
  },
  {
   "cell_type": "code",
   "execution_count": 38,
   "id": "f72325ac",
   "metadata": {},
   "outputs": [
    {
     "name": "stdout",
     "output_type": "stream",
     "text": [
      "kalau 1 box keramik berisi 5\n",
      "Luas keramik (cm^2): 0.12\n",
      "luas kamar tidur: (m^2) 16\n",
      "Total luas kamar tidur (m^2) : 64\n",
      "keramik yang diperlukan: 533.3333333333334\n",
      "jumlah kardus keramik yang dibutuhkan: 106.66666666666667\n",
      "nambah cadangan keramik sekitar 10%, berapa butuh total box?\n",
      "------------------------------------------------------\n",
      "nambah 10% dari rencana awal: 1.1\n",
      "nambah keramik sekitar 586.6666666666667\n",
      "total box yang dibutuhkan adalah: 117.33333333333334\n"
     ]
    }
   ],
   "source": [
    "#no 2\n",
    "\n",
    "print('kalau 1 box keramik berisi 5')\n",
    "\n",
    "box = 5\n",
    "\n",
    "br = 4 #kamar tidur\n",
    "#ukuran kamar tidur\n",
    "sisi = 4 #sisi\n",
    "#ukuran keramik\n",
    "p = 30\n",
    "l = 40\n",
    "\n",
    "lk = p*l /10000\n",
    "print('Luas keramik (cm^2):', lk)\n",
    "\n",
    "lbr = sisi*sisi\n",
    "print('luas kamar tidur: (m^2)', lbr)\n",
    "\n",
    "brh = lbr * br\n",
    "print('Total luas kamar tidur (m^2) :', brh)\n",
    "\n",
    "cerneed = brh / lk\n",
    "print('keramik yang diperlukan:', cerneed)\n",
    "\n",
    "boxneeded = cerneed / box\n",
    "print('jumlah kardus keramik yang dibutuhkan:', boxneeded)\n",
    "\n",
    "print('nambah cadangan keramik sekitar 10%, berapa butuh total box?')\n",
    "\n",
    "print('------------------------------------------------------')\n",
    "\n",
    "percent = 1.1\n",
    "print('nambah 10% dari rencana awal:', percent)\n",
    "\n",
    "cnplus = cerneed*percent\n",
    "print('nambah keramik sekitar', cnplus)\n",
    "\n",
    "newbox = cnplus / box\n",
    "print('total box yang dibutuhkan adalah:', newbox)"
   ]
  },
  {
   "cell_type": "code",
   "execution_count": 42,
   "id": "be074403",
   "metadata": {},
   "outputs": [
    {
     "name": "stdout",
     "output_type": "stream",
     "text": [
      "kalau 1 box keramik berisi 5\n",
      "Luas keramik (cm^2): 0.12\n",
      "luas kamar tidur: (m^2) 16\n",
      "Total luas kamar tidur (m^2) : 64\n",
      "keramik yang diperlukan: 533.3333333333334\n",
      "jumlah kardus keramik yang dibutuhkan: 106.66666666666667\n",
      "nambah cadangan keramik sekitar 10%, berapa butuh total box?\n",
      "------------------------------------------------------\n",
      "nambah 10% dari rencana awal: 1.1\n",
      "nambah keramik sekitar 586.6666666666667\n",
      "total box yang dibutuhkan adalah: 117.33333333333334\n",
      "-----------------------------------------------------\n",
      "harga 1 box keramik 125000\n",
      "total biaya beli keramik (Rp): 14666666.666666668\n"
     ]
    }
   ],
   "source": [
    "#no 3\n",
    "\n",
    "print('kalau 1 box keramik berisi 5')\n",
    "\n",
    "box = 5\n",
    "\n",
    "br = 4 #kamar tidur\n",
    "#ukuran kamar tidur\n",
    "sisi = 4 #sisi\n",
    "#ukuran keramik\n",
    "p = 30\n",
    "l = 40\n",
    "\n",
    "lk = p*l /10000\n",
    "print('Luas keramik (cm^2):', lk)\n",
    "\n",
    "lbr = sisi*sisi\n",
    "print('luas kamar tidur: (m^2)', lbr)\n",
    "\n",
    "brh = lbr * br\n",
    "print('Total luas kamar tidur (m^2) :', brh)\n",
    "\n",
    "cerneed = brh / lk\n",
    "print('keramik yang diperlukan:', cerneed)\n",
    "\n",
    "boxneeded = cerneed / box\n",
    "print('jumlah kardus keramik yang dibutuhkan:', boxneeded)\n",
    "\n",
    "print('nambah cadangan keramik sekitar 10%, berapa butuh total box?')\n",
    "\n",
    "print('------------------------------------------------------')\n",
    "\n",
    "percent = 1.1\n",
    "print('nambah 10% dari rencana awal:', percent)\n",
    "\n",
    "cnplus = cerneed*percent\n",
    "print('nambah keramik sekitar', cnplus)\n",
    "\n",
    "newbox = cnplus / box\n",
    "print('total box yang dibutuhkan adalah:', newbox)\n",
    "\n",
    "print('-----------------------------------------------------')\n",
    "\n",
    "price = 125000\n",
    "print('harga 1 box keramik', price)\n",
    "\n",
    "cost = newbox*price\n",
    "print('total biaya beli keramik (Rp):', cost)"
   ]
  }
 ],
 "metadata": {
  "kernelspec": {
   "display_name": "Python 3",
   "language": "python",
   "name": "python3"
  },
  "language_info": {
   "codemirror_mode": {
    "name": "ipython",
    "version": 3
   },
   "file_extension": ".py",
   "mimetype": "text/x-python",
   "name": "python",
   "nbconvert_exporter": "python",
   "pygments_lexer": "ipython3",
   "version": "3.8.8"
  }
 },
 "nbformat": 4,
 "nbformat_minor": 5
}
